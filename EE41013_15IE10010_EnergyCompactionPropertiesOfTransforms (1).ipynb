{
 "cells": [
  {
   "cell_type": "markdown",
   "metadata": {},
   "source": [
    "# Energy Compaction Properties Of Transforms"
   ]
  },
  {
   "cell_type": "code",
   "execution_count": 178,
   "metadata": {
    "collapsed": true
   },
   "outputs": [],
   "source": [
    "import numpy as np\n",
    "import matplotlib.pyplot as plt\n",
    "from time import time\n",
    "import math\n",
    "import cmath\n",
    "from scipy.fftpack import dct,idct\n",
    "from numpy.linalg import inv\n",
    "%matplotlib inline "
   ]
  },
  {
   "cell_type": "markdown",
   "metadata": {},
   "source": [
    "# Declaration of Input Vector"
   ]
  },
  {
   "cell_type": "code",
   "execution_count": 179,
   "metadata": {
    "collapsed": true
   },
   "outputs": [],
   "source": [
    "n = np.arange(0,64,1)\n",
    "x = (0.75)**n"
   ]
  },
  {
   "cell_type": "code",
   "execution_count": 180,
   "metadata": {
    "collapsed": false
   },
   "outputs": [
    {
     "data": {
      "text/plain": [
       "array([  1.00000000e+00,   7.50000000e-01,   5.62500000e-01,\n",
       "         4.21875000e-01,   3.16406250e-01,   2.37304688e-01,\n",
       "         1.77978516e-01,   1.33483887e-01,   1.00112915e-01,\n",
       "         7.50846863e-02,   5.63135147e-02,   4.22351360e-02,\n",
       "         3.16763520e-02,   2.37572640e-02,   1.78179480e-02,\n",
       "         1.33634610e-02,   1.00225958e-02,   7.51694682e-03,\n",
       "         5.63771011e-03,   4.22828259e-03,   3.17121194e-03,\n",
       "         2.37840895e-03,   1.78380672e-03,   1.33785504e-03,\n",
       "         1.00339128e-03,   7.52543458e-04,   5.64407594e-04,\n",
       "         4.23305695e-04,   3.17479271e-04,   2.38109454e-04,\n",
       "         1.78582090e-04,   1.33936568e-04,   1.00452426e-04,\n",
       "         7.53393193e-05,   5.65044895e-05,   4.23783671e-05,\n",
       "         3.17837753e-05,   2.38378315e-05,   1.78783736e-05,\n",
       "         1.34087802e-05,   1.00565852e-05,   7.54243887e-06,\n",
       "         5.65682915e-06,   4.24262187e-06,   3.18196640e-06,\n",
       "         2.38647480e-06,   1.78985610e-06,   1.34239207e-06,\n",
       "         1.00679406e-06,   7.55095542e-07,   5.66321656e-07,\n",
       "         4.24741242e-07,   3.18555932e-07,   2.38916949e-07,\n",
       "         1.79187712e-07,   1.34390784e-07,   1.00793088e-07,\n",
       "         7.55948158e-08,   5.66961119e-08,   4.25220839e-08,\n",
       "         3.18915629e-08,   2.39186722e-08,   1.79390041e-08,\n",
       "         1.34542531e-08])"
      ]
     },
     "execution_count": 180,
     "metadata": {},
     "output_type": "execute_result"
    }
   ],
   "source": [
    "x"
   ]
  },
  {
   "cell_type": "code",
   "execution_count": 181,
   "metadata": {
    "collapsed": true
   },
   "outputs": [],
   "source": [
    "# This is the transpose of the input vector used for Transform Computations\n",
    "X_tr = x.transpose()"
   ]
  },
  {
   "cell_type": "markdown",
   "metadata": {},
   "source": [
    "## DFT "
   ]
  },
  {
   "cell_type": "code",
   "execution_count": 182,
   "metadata": {
    "collapsed": true
   },
   "outputs": [],
   "source": [
    "def dft_matrix(N):\n",
    "    W = np.ndarray((N,N),dtype = complex)\n",
    "    for i in range(N):\n",
    "        for j in range(N):\n",
    "            W[i][j] = cmath.exp(complex(0,float(-2*math.pi/N*i*j)))\n",
    "    return W"
   ]
  },
  {
   "cell_type": "code",
   "execution_count": 183,
   "metadata": {
    "collapsed": true
   },
   "outputs": [],
   "source": [
    "# Creating a new DFT computation matrix of size 16\n",
    "Y = dft_matrix(64)"
   ]
  },
  {
   "cell_type": "code",
   "execution_count": 184,
   "metadata": {
    "collapsed": false
   },
   "outputs": [],
   "source": [
    "# z is the DFT of X\n",
    "z = np.matmul(Y,X_tr)"
   ]
  },
  {
   "cell_type": "code",
   "execution_count": 185,
   "metadata": {
    "collapsed": false
   },
   "outputs": [
    {
     "data": {
      "text/plain": [
       "[<matplotlib.lines.Line2D at 0x271419b8978>]"
      ]
     },
     "execution_count": 185,
     "metadata": {},
     "output_type": "execute_result"
    },
    {
     "data": {
      "image/png": "[encoded data removed]",
      "text/plain": [
       "<matplotlib.figure.Figure at 0x27141812438>"
      ]
     },
     "metadata": {},
     "output_type": "display_data"
    }
   ],
   "source": [
    "plt.plot(abs(z))"
   ]
  },
  {
   "cell_type": "markdown",
   "metadata": {},
   "source": [
    "## IDFT"
   ]
  },
  {
   "cell_type": "code",
   "execution_count": 186,
   "metadata": {
    "collapsed": false
   },
   "outputs": [],
   "source": [
    "#Inverse Fourier Transform \n",
    "\n",
    "Dl = []\n",
    "L = np.arange(1,64,1)\n",
    "for j in range(len(L)):\n",
    "    zm = []\n",
    "    sum = 0\n",
    "    for i in range(math.floor((65-L[j])/2)):\n",
    "        zm.append(z[i])\n",
    "    for i in range(math.floor((65-L[j])/2),math.ceil((65+L[j])/2)):\n",
    "        zm.append(0)\n",
    "    for i in range(math.ceil((65+L[j])/2),64):\n",
    "        zm.append(z[i])\n",
    "    dm = np.matmul(inv(Y),zm)\n",
    "    for i in range(len(X_tr)):\n",
    "        sum = sum + ((abs(X_tr[i]-dm[i]))**2)\n",
    "        q = sum/64\n",
    "    Dl.append(q)"
   ]
  },
  {
   "cell_type": "code",
   "execution_count": 187,
   "metadata": {
    "collapsed": false
   },
   "outputs": [
    {
     "data": {
      "text/plain": [
       "[<matplotlib.lines.Line2D at 0x27141a5a2b0>]"
      ]
     },
     "execution_count": 187,
     "metadata": {},
     "output_type": "execute_result"
    },
    {
     "data": {
      "image/png": "[encoded data removed]",
      "text/plain": [
       "<matplotlib.figure.Figure at 0x27141a01f60>"
      ]
     },
     "metadata": {},
     "output_type": "display_data"
    }
   ],
   "source": [
    "plt.plot(Dl)"
   ]
  },
  {
   "cell_type": "markdown",
   "metadata": {},
   "source": [
    "## Haar Transform"
   ]
  },
  {
   "cell_type": "code",
   "execution_count": 188,
   "metadata": {
    "collapsed": true
   },
   "outputs": [],
   "source": [
    "# Haar Matrix transform \n",
    "\n",
    "def haarMatrix(n, normalized=True):\n",
    "    n = 2**np.ceil(np.log2(n))\n",
    "    if n > 2:\n",
    "        h = haarMatrix(n / 2)\n",
    "    else:\n",
    "        return np.array([[1, 1], [1, -1]])\n",
    "\n",
    "    # calculate upper haar part\n",
    "    h_n = np.kron(h, [1, 1])\n",
    "    # calculate lower haar part \n",
    "    if normalized:\n",
    "        h_i = np.sqrt(n/2)*np.kron(np.eye(len(h)), [1, -1])\n",
    "    else:\n",
    "        h_i = np.kron(np.eye(len(h)), [1, -1])\n",
    "    # combine parts\n",
    "    h = np.vstack((h_n, h_i))\n",
    "    return h\n",
    "A = haarMatrix(64)"
   ]
  },
  {
   "cell_type": "code",
   "execution_count": 189,
   "metadata": {
    "collapsed": false
   },
   "outputs": [],
   "source": [
    "b = np.matmul(A,X_tr)"
   ]
  },
  {
   "cell_type": "code",
   "execution_count": 190,
   "metadata": {
    "collapsed": false
   },
   "outputs": [
    {
     "data": {
      "text/plain": [
       "[<matplotlib.lines.Line2D at 0x27141ae7f98>]"
      ]
     },
     "execution_count": 190,
     "metadata": {},
     "output_type": "execute_result"
    },
    {
     "data": {
      "image/png": "[encoded data removed]",
      "text/plain": [
       "<matplotlib.figure.Figure at 0x27141924c50>"
      ]
     },
     "metadata": {},
     "output_type": "display_data"
    }
   ],
   "source": [
    "plt.plot(b)"
   ]
  },
  {
   "cell_type": "markdown",
   "metadata": {},
   "source": [
    "## Inverse Haar Transform"
   ]
  },
  {
   "cell_type": "code",
   "execution_count": 191,
   "metadata": {
    "collapsed": false
   },
   "outputs": [
    {
     "data": {
      "text/plain": [
       "[<matplotlib.lines.Line2D at 0x27141b870f0>]"
      ]
     },
     "execution_count": 191,
     "metadata": {},
     "output_type": "execute_result"
    },
    {
     "data": {
      "image/png": "[encoded data removed]",
      "text/plain": [
       "<matplotlib.figure.Figure at 0x271419556d8>"
      ]
     },
     "metadata": {},
     "output_type": "display_data"
    }
   ],
   "source": [
    "#Inverse haar Transform\n",
    "El = []\n",
    "for L in range(1,65):\n",
    "    bm = []\n",
    "    sum = 0\n",
    "    for i in range(64-L):\n",
    "        bm.append(b[i])\n",
    "    for i in range(64-L,64):\n",
    "        bm.append(0)\n",
    "    xm = np.matmul(inv(A),bm)\n",
    "    for i in range(len(X_tr)):\n",
    "        sum = sum + ((X_tr[i]-xm[i])**2)\n",
    "        q = sum/64\n",
    "    El.append(q)\n",
    "plt.plot(El)"
   ]
  },
  {
   "cell_type": "markdown",
   "metadata": {},
   "source": [
    "## DCT"
   ]
  },
  {
   "cell_type": "code",
   "execution_count": 192,
   "metadata": {
    "collapsed": true
   },
   "outputs": [],
   "source": [
    "# DCT of X\n",
    "c = dct(X_tr)"
   ]
  },
  {
   "cell_type": "markdown",
   "metadata": {},
   "source": [
    "## IDCT"
   ]
  },
  {
   "cell_type": "code",
   "execution_count": 193,
   "metadata": {
    "collapsed": false
   },
   "outputs": [
    {
     "data": {
      "text/plain": [
       "[<matplotlib.lines.Line2D at 0x27142bf3128>]"
      ]
     },
     "execution_count": 193,
     "metadata": {},
     "output_type": "execute_result"
    },
    {
     "data": {
      "image/png": "[encoded data removed]",
      "text/plain": [
       "<matplotlib.figure.Figure at 0x27141bab6a0>"
      ]
     },
     "metadata": {},
     "output_type": "display_data"
    }
   ],
   "source": [
    "Cl = []\n",
    "for L in range(1,65):\n",
    "    cm = []\n",
    "    sum = 0\n",
    "    for i in range(64-L):\n",
    "        cm.append(c[i])\n",
    "    for i in range(64-L,64):\n",
    "        cm.append(0)\n",
    "    xm = idct(cm)/128\n",
    "    for i in range(len(X_tr)):\n",
    "        sum = sum + ((X_tr[i]-xm[i])**2)\n",
    "        q = sum/64\n",
    "    Cl.append(q)\n",
    "plt.plot(Cl)"
   ]
  },
  {
   "cell_type": "markdown",
   "metadata": {},
   "source": [
    "## Final Plot DFT vs DCT vs Haar"
   ]
  },
  {
   "cell_type": "code",
   "execution_count": 194,
   "metadata": {
    "collapsed": false
   },
   "outputs": [
    {
     "data": {
      "text/plain": [
       "<matplotlib.text.Text at 0x27141b872e8>"
      ]
     },
     "execution_count": 194,
     "metadata": {},
     "output_type": "execute_result"
    },
    {
     "data": {
      "image/png": "[encoded data removed]",
      "text/plain": [
       "<matplotlib.figure.Figure at 0x27141aa8160>"
      ]
     },
     "metadata": {},
     "output_type": "display_data"
    }
   ],
   "source": [
    "plt.plot(Dl)\n",
    "plt.plot(El)\n",
    "plt.plot(Cl)\n",
    "'''plt.axis([0, 64, 0, 0.09])'''\n",
    "plt.ylabel('E(L)')\n",
    "plt.xlabel('L')"
   ]
  },
  {
   "cell_type": "code",
   "execution_count": null,
   "metadata": {
    "collapsed": true
   },
   "outputs": [],
   "source": []
  },
  {
   "cell_type": "code",
   "execution_count": null,
   "metadata": {
    "collapsed": true
   },
   "outputs": [],
   "source": []
  },
  {
   "cell_type": "code",
   "execution_count": null,
   "metadata": {
    "collapsed": true
   },
   "outputs": [],
   "source": []
  },
  {
   "cell_type": "code",
   "execution_count": null,
   "metadata": {
    "collapsed": true
   },
   "outputs": [],
   "source": []
  },
  {
   "cell_type": "code",
   "execution_count": null,
   "metadata": {
    "collapsed": true
   },
   "outputs": [],
   "source": []
  }
 ],
 "metadata": {
  "kernelspec": {
   "display_name": "Python 3",
   "language": "python",
   "name": "python3"
  },
  "language_info": {
   "codemirror_mode": {
    "name": "ipython",
    "version": 3
   },
   "file_extension": ".py",
   "mimetype": "text/x-python",
   "name": "python",
   "nbconvert_exporter": "python",
   "pygments_lexer": "ipython3",
   "version": "3.6.0"
  }
 },
 "nbformat": 4,
 "nbformat_minor": 2
}
