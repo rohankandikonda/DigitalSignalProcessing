{
 "cells": [
  {
   "cell_type": "markdown",
   "metadata": {},
   "source": [
    "## Energy Compaction Properties of Transforms"
   ]
  },
  {
   "cell_type": "code",
   "execution_count": 1,
   "metadata": {
    "collapsed": true
   },
   "outputs": [],
   "source": [
    "## Libraries to be imported"
   ]
  },
  {
   "cell_type": "code",
   "execution_count": 2,
   "metadata": {
    "collapsed": true
   },
   "outputs": [],
   "source": [
    "import numpy as np\n",
    "import math as m\n",
    "import matplotlib.pyplot as plt\n",
    "import cmath as c\n",
    "%matplotlib inline"
   ]
  },
  {
   "cell_type": "code",
   "execution_count": 3,
   "metadata": {
    "collapsed": true
   },
   "outputs": [],
   "source": [
    "## The components to be removed"
   ]
  },
  {
   "cell_type": "code",
   "execution_count": 4,
   "metadata": {
    "collapsed": false
   },
   "outputs": [
    {
     "data": {
      "text/plain": [
       "[0, 10, 20, 30, 40, 50, 60, 70]"
      ]
     },
     "execution_count": 4,
     "metadata": {},
     "output_type": "execute_result"
    }
   ],
   "source": [
    "P=[]\n",
    "for i in range(0,8):\n",
    "    P.append(i*10)\n",
    "P"
   ]
  },
  {
   "cell_type": "markdown",
   "metadata": {
    "collapsed": true
   },
   "source": [
    "## Haar Transform"
   ]
  },
  {
   "cell_type": "code",
   "execution_count": 5,
   "metadata": {
    "collapsed": true
   },
   "outputs": [],
   "source": [
    "def haarMatrix(n, normalized=True):\n",
    "    n = 2**np.ceil(np.log2(n))\n",
    "    if n > 2:\n",
    "        h = haarMatrix(n / 2)\n",
    "    else:\n",
    "        return np.array([[1, 1], [1, -1]])\n",
    "\n",
    "    # calculate upper haar part\n",
    "    h_n = np.kron(h, [1, 1])\n",
    "    # calculate lower haar part \n",
    "    if normalized:\n",
    "        h_i = np.sqrt(n/2)*np.kron(np.eye(len(h)), [1, -1])\n",
    "    else:\n",
    "        h_i = np.kron(np.eye(len(h)), [1, -1])\n",
    "    # combine parts\n",
    "    h = np.vstack((h_n, h_i))\n",
    "    return h\n",
    "   "
   ]
  },
  {
   "cell_type": "code",
   "execution_count": 6,
   "metadata": {
    "collapsed": true
   },
   "outputs": [],
   "source": [
    "def haarcompute(x):\n",
    "    A = haarMatrix(64)\n",
    "    b = np.matmul(A,x.transpose())  \n",
    "    return b"
   ]
  },
  {
   "cell_type": "markdown",
   "metadata": {
    "collapsed": true
   },
   "source": [
    "## DCT Computation"
   ]
  },
  {
   "cell_type": "code",
   "execution_count": 7,
   "metadata": {
    "collapsed": true
   },
   "outputs": [],
   "source": [
    "# This function returns the DCT of input x\n",
    "\n",
    "def DCT(a):\n",
    "    N=len(a)\n",
    "    A=[]\n",
    "    for i in range(N):\n",
    "        t=0\n",
    "        for j in range(N):\n",
    "            t+=2*x[j]*np.cos(((m.pi)*i*(2*j+1))/(2*N))\n",
    "        A.append(t)\n",
    "    return A"
   ]
  },
  {
   "cell_type": "markdown",
   "metadata": {},
   "source": [
    "## IDCT Computation"
   ]
  },
  {
   "cell_type": "code",
   "execution_count": 8,
   "metadata": {
    "collapsed": true
   },
   "outputs": [],
   "source": [
    "# This function returns the IDCT of input x\n",
    "\n",
    "def IDCT(A):\n",
    "    N=len(A)\n",
    "    a=[]\n",
    "    g=[0.5]\n",
    "    for i in range(N-1):\n",
    "        g.append(1)\n",
    "    for n in range(N):\n",
    "        t=0\n",
    "        for k in range(N):\n",
    "            t+=g[k]*A[k]*np.cos(((m.pi)*k*(2*n+1))/(2*N))\n",
    "        a.append(t/N)\n",
    "    return a"
   ]
  },
  {
   "cell_type": "markdown",
   "metadata": {},
   "source": [
    "## DCT Compression"
   ]
  },
  {
   "cell_type": "code",
   "execution_count": 9,
   "metadata": {
    "collapsed": true
   },
   "outputs": [],
   "source": [
    "def DCTreduced(A,L):\n",
    "    N=len(A)\n",
    "    Am_DCT=[]\n",
    "    for i in range(N):\n",
    "        if i<=(N-1-L):\n",
    "            Am_DCT.append(A[i])\n",
    "        else:\n",
    "            Am_DCT.append(0)\n",
    "    return Am_DCT"
   ]
  },
  {
   "cell_type": "markdown",
   "metadata": {},
   "source": [
    "## DFT Computation"
   ]
  },
  {
   "cell_type": "code",
   "execution_count": 10,
   "metadata": {
    "collapsed": false
   },
   "outputs": [],
   "source": [
    "# This function creates a DFT matrix of size NxN which is used in DFT computation \n",
    "\n",
    "def DFT(N,a):\n",
    "    W=c.exp(((-2*m.pi)/N)*1j)\n",
    "    D=[]\n",
    "    for i in range(N):\n",
    "        d=[]\n",
    "        for j in range(N):\n",
    "            d.append(W**(i*j))\n",
    "        D.append(d)\n",
    "    A= np.matmul(D,a)\n",
    "    return A"
   ]
  },
  {
   "cell_type": "markdown",
   "metadata": {},
   "source": [
    "## IDFT Computation"
   ]
  },
  {
   "cell_type": "code",
   "execution_count": 11,
   "metadata": {
    "collapsed": true
   },
   "outputs": [],
   "source": [
    "# This function creates an IDFT matrix of size NxN which is used in IDFT computation \n",
    "\n",
    "def IDFT(N,A):\n",
    "    W1=c.exp(((2*m.pi)/N)*1j)\n",
    "    D1=[]\n",
    "    for i in range(N):\n",
    "        d1=[]\n",
    "        for j in range(N):\n",
    "            d1.append(W1**(i*j))\n",
    "        D1.append(d1)\n",
    "    a = np.matmul(D1,A)\n",
    "    N = len(A)\n",
    "    a = np.divide(a,N)\n",
    "    return a"
   ]
  },
  {
   "cell_type": "markdown",
   "metadata": {},
   "source": [
    "## Compressed DFT form"
   ]
  },
  {
   "cell_type": "code",
   "execution_count": 12,
   "metadata": {
    "collapsed": true
   },
   "outputs": [],
   "source": [
    "# This function removes some of the components which are to be removed from the input given \n",
    "def DFTreduced(A,L):\n",
    "    Am_DFT=[]\n",
    "    N=len(A)\n",
    "    for i in range(N):\n",
    "        if i<=int((N-1-L)/2):\n",
    "            Am_DFT.append(A[i])\n",
    "        elif i>=int((N+1-L)/2) and i<=int((N-1+L)/2):\n",
    "            Am_DFT.append(0)\n",
    "        elif i>=int((N+1+L)/2) and i<=N-1:\n",
    "            Am_DFT.append(A[i])\n",
    "    return Am_DFT"
   ]
  },
  {
   "cell_type": "markdown",
   "metadata": {},
   "source": [
    "## Mean Squared Error function"
   ]
  },
  {
   "cell_type": "code",
   "execution_count": 13,
   "metadata": {
    "collapsed": true
   },
   "outputs": [],
   "source": [
    "# This function calculates the mean squared error of any two arrays or vectors \n",
    "\n",
    "def mse(x,y):\n",
    "    x=np.array(x)\n",
    "    y=np.array(y)\n",
    "    E=np.mean((abs(x-y))**2)\n",
    "    return E"
   ]
  },
  {
   "cell_type": "markdown",
   "metadata": {
    "collapsed": true
   },
   "source": [
    "## Main function"
   ]
  },
  {
   "cell_type": "code",
   "execution_count": 14,
   "metadata": {
    "collapsed": false
   },
   "outputs": [],
   "source": [
    "N=64\n",
    "\n",
    "# x is the input of 64 random numbers in the range of 0-100\n",
    "x=np.random.randint(100,size=N)\n",
    "\n",
    "# E1 is the mse array for DFT \n",
    "# E2 is the mse array for DCT \n",
    "E1 =[]\n",
    "E2= []\n",
    "\n",
    "# X1 is the DFT of input x\n",
    "X1 = DFT(N,x)\n",
    "for i in range(0,7):\n",
    "    k=P[i]\n",
    "    Xm1=DFTreduced(X1,k)\n",
    "    xm1=IDFT(N,Xm1)\n",
    "    e=mse(x,xm1)\n",
    "    E1.append(e)\n",
    "      \n",
    "# X2 is the DCT of input x    \n",
    "X2 = DCT(x)\n",
    "for i in range(0,7):\n",
    "    k=P[i]\n",
    "    Xm2=DCTreduced(X2,k)\n",
    "    xm2=IDCT(Xm2)\n",
    "    e=mse(x,xm2)\n",
    "    E2.append(e)\n",
    "\n",
    "# b is the haar tranform of input x\n",
    "b= haarcompute(x)"
   ]
  },
  {
   "cell_type": "markdown",
   "metadata": {},
   "source": [
    "## Inverse Haar and corresponding Haar Compression"
   ]
  },
  {
   "cell_type": "code",
   "execution_count": 15,
   "metadata": {
    "collapsed": false
   },
   "outputs": [],
   "source": [
    "# Finding inverse Haar Transform and corresponding reduced Haar after removing components  \n",
    "\n",
    "from numpy.linalg import inv\n",
    "\n",
    "# E3 is the mse array for haar transform\n",
    "E3 = []\n",
    "X = x.transpose()\n",
    "for j in range(0,7):\n",
    "    bm = []\n",
    "    sumval = 0\n",
    "    for i in range(64-P[j]):\n",
    "        bm.append(b[i])\n",
    "    for i in range(64-P[j],64):\n",
    "        bm.append(0)\n",
    "    xm = np.matmul(inv(haarMatrix(64)),bm)\n",
    "    for i in range(len(X)):\n",
    "        sumval = sumval + ((X[i]-xm[i])**2)\n",
    "        q = sumval/64\n",
    "    E3.append(q)\n",
    "    "
   ]
  },
  {
   "cell_type": "markdown",
   "metadata": {},
   "source": [
    "## Plots of E1, E2, E3"
   ]
  },
  {
   "cell_type": "code",
   "execution_count": 16,
   "metadata": {
    "collapsed": false
   },
   "outputs": [
    {
     "data": {
      "text/plain": [
       "<matplotlib.legend.Legend at 0x1c8768df9e8>"
      ]
     },
     "execution_count": 16,
     "metadata": {},
     "output_type": "execute_result"
    },
    {
     "data": {
      "image/png": "[encoded data removed]",
      "text/plain": [
       "<matplotlib.figure.Figure at 0x1c874760f28>"
      ]
     },
     "metadata": {},
     "output_type": "display_data"
    }
   ],
   "source": [
    "fig = plt.figure()\n",
    "ax = plt.subplot(111)\n",
    "ax.plot(E1, label='DFT')\n",
    "ax.plot(E2, label='DCT')\n",
    "ax.plot(E3, label='Haar')\n",
    "ax.legend()"
   ]
  }
 ],
 "metadata": {
  "kernelspec": {
   "display_name": "Python 3",
   "language": "python",
   "name": "python3"
  },
  "language_info": {
   "codemirror_mode": {
    "name": "ipython",
    "version": 3
   },
   "file_extension": ".py",
   "mimetype": "text/x-python",
   "name": "python",
   "nbconvert_exporter": "python",
   "pygments_lexer": "ipython3",
   "version": "3.6.0"
  }
 },
 "nbformat": 4,
 "nbformat_minor": 2
}
